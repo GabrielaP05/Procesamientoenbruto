{
  "nbformat": 4,
  "nbformat_minor": 0,
  "metadata": {
    "colab": {
      "provenance": [],
      "authorship_tag": "ABX9TyOE5sfrUAHgQ1ct/LyyRuE4",
      "include_colab_link": true
    },
    "kernelspec": {
      "name": "python3",
      "display_name": "Python 3"
    },
    "language_info": {
      "name": "python"
    }
  },
  "cells": [
    {
      "cell_type": "markdown",
      "metadata": {
        "id": "view-in-github",
        "colab_type": "text"
      },
      "source": [
        "<a href=\"https://colab.research.google.com/github/GabrielaP05/Procesamientoenbruto/blob/main/Copia_de_ProcesandoInfo.ipynb\" target=\"_parent\"><img src=\"https://colab.research.google.com/assets/colab-badge.svg\" alt=\"Open In Colab\"/></a>"
      ]
    },
    {
      "source": [
        "!ls"
      ],
      "cell_type": "code",
      "metadata": {
        "id": "u9QrK_Wic9DM",
        "outputId": "4826405b-a392-42dd-b932-b31e0209e1e4",
        "colab": {
          "base_uri": "https://localhost:8080/"
        }
      },
      "execution_count": null,
      "outputs": [
        {
          "output_type": "stream",
          "name": "stdout",
          "text": [
            "datos_descargados.csv  sample_data\n"
          ]
        }
      ]
    },
    {
      "source": [
        "import requests\n",
        "\n",
        "def descargar_y_guardar_como_csv(url, archivo_salida):\n",
        "    \"\"\"\n",
        "    Descarga datos desde una URL y guarda la respuesta como un archivo CSV.\n",
        "\n",
        "    Args:\n",
        "    - url (str): URL desde donde descargar los datos.\n",
        "    - archivo_salida (str): Ruta al archivo de salida CSV donde se guardará la respuesta.\n",
        "    \"\"\"\n",
        "    try:\n",
        "        # Realizar la solicitud GET\n",
        "        response = requests.get(url)\n",
        "\n",
        "        # Verificar el estado de la respuesta\n",
        "        if response.status_code == 200:\n",
        "            # Guardar la respuesta como un archivo CSV\n",
        "            with open(archivo_salida, 'wb') as f:\n",
        "                f.write(response.content)\n",
        "            print(f\"Datos descargados exitosamente y guardados en: {archivo_salida}\")\n",
        "        else:\n",
        "            print(f\"Error al descargar los datos. Estado de respuesta: {response.status_code}\")\n",
        "    except Exception as e:\n",
        "        print(f\"Error en la solicitud GET: {str(e)}\")\n",
        "\n",
        "# Ejemplo de uso\n",
        "url_datos = 'https://huggingface.co/datasets/mstz/heart_failure/raw/main/heart_failure_clinical_records_dataset.csv'  # Reemplaza con la URL real de tus datos\n",
        "archivo_salida = 'datos_descargados.csv'\n",
        "\n",
        "# Llamar a la función para descargar y guardar los datos\n",
        "descargar_y_guardar_como_csv(url_datos, archivo_salida)"
      ],
      "cell_type": "code",
      "metadata": {
        "colab": {
          "base_uri": "https://localhost:8080/"
        },
        "id": "sd7iaXiacxGV",
        "outputId": "77da1ce6-05b1-4692-a1b1-09c70b4e8bb7"
      },
      "execution_count": null,
      "outputs": [
        {
          "output_type": "stream",
          "name": "stdout",
          "text": [
            "Datos descargados exitosamente y guardados en: datos_descargados.csv\n"
          ]
        }
      ]
    }
  ]
}